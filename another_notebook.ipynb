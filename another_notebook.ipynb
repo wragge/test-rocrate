{
 "cells": [
  {
   "cell_type": "markdown",
   "id": "63d6ca8f-9b56-422a-968a-0ec0688c1cd0",
   "metadata": {},
   "source": [
    "# A notebook too"
   ]
  },
  {
   "cell_type": "markdown",
   "id": "574223bd-45da-44b2-bd92-355167adc2b7",
   "metadata": {},
   "source": [
    "This is another notebook."
   ]
  },
  {
   "cell_type": "code",
   "execution_count": 1,
   "id": "f623cfba-2682-4385-9845-8ab4101a5a34",
   "metadata": {},
   "outputs": [
    {
     "data": {
      "text/plain": [
       "2"
      ]
     },
     "execution_count": 1,
     "metadata": {},
     "output_type": "execute_result"
    }
   ],
   "source": [
    "1 + 1"
   ]
  },
  {
   "cell_type": "code",
   "execution_count": null,
   "id": "ccef2d53-bd50-4a1a-b17e-6132e982a47e",
   "metadata": {},
   "outputs": [],
   "source": []
  }
 ],
 "metadata": {
  "kernelspec": {
   "display_name": "Python 3 (ipykernel)",
   "language": "python",
   "name": "python3"
  },
  "language_info": {
   "codemirror_mode": {
    "name": "ipython",
    "version": 3
   },
   "file_extension": ".py",
   "mimetype": "text/x-python",
   "name": "python",
   "nbconvert_exporter": "python",
   "pygments_lexer": "ipython3",
   "version": "3.8.12"
  }
 },
 "nbformat": 4,
 "nbformat_minor": 5
}
